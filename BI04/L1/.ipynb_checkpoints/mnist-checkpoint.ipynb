{
 "cells": [
  {
   "cell_type": "code",
   "execution_count": 1,
   "metadata": {},
   "outputs": [],
   "source": [
    "from  sklearn.datasets import load_digits\n",
    "from sklearn.model_selection import train_test_split\n",
    "from sklearn import preprocessing\n",
    "from sklearn.metrics import accuracy_score\n",
    "import matplotlib.pyplot as plt\n",
    "from sklearn.linear_model import LogisticRegression #逻辑回归\n",
    "from sklearn.linear_model import LinearRegression\n",
    "from sklearn.tree import DecisionTreeClassifier\n"
   ]
  },
  {
   "cell_type": "code",
   "execution_count": 2,
   "metadata": {},
   "outputs": [
    {
     "name": "stdout",
     "output_type": "stream",
     "text": [
      "(1797, 64)\n",
      "[[ 0.  0.  5. 13.  9.  1.  0.  0.]\n",
      " [ 0.  0. 13. 15. 10. 15.  5.  0.]\n",
      " [ 0.  3. 15.  2.  0. 11.  8.  0.]\n",
      " [ 0.  4. 12.  0.  0.  8.  8.  0.]\n",
      " [ 0.  5.  8.  0.  0.  9.  8.  0.]\n",
      " [ 0.  4. 11.  0.  1. 12.  7.  0.]\n",
      " [ 0.  2. 14.  5. 10. 12.  0.  0.]\n",
      " [ 0.  0.  6. 13. 10.  0.  0.  0.]]\n",
      "0\n"
     ]
    }
   ],
   "source": [
    "\n",
    "# 加载数据\n",
    "digits = load_digits()\n",
    "data = digits.data\n",
    "# 数据探索\n",
    "print(data.shape)\n",
    "# 查看第一幅图像\n",
    "print(digits.images[0])\n",
    "# 第一幅图像代表的数字含义\n",
    "print(digits.target[0])"
   ]
  },
  {
   "cell_type": "code",
   "execution_count": 3,
   "metadata": {},
   "outputs": [
    {
     "data": {
      "image/png": "[encoded data removed]",
      "text/plain": [
       "<Figure size 432x288 with 1 Axes>"
      ]
     },
     "metadata": {
      "needs_background": "light"
     },
     "output_type": "display_data"
    }
   ],
   "source": [
    "plt.gray()\n",
    "plt.imshow(digits.images[0])\n",
    "plt.show()"
   ]
  },
  {
   "cell_type": "code",
   "execution_count": 3,
   "metadata": {},
   "outputs": [],
   "source": [
    "\n",
    "# 分割数据，将25%的数据作为测试集，其余作为训练集\n",
    "train_x, test_x, train_y, test_y = train_test_split(data, digits.target, test_size=0.25, random_state=33)\n"
   ]
  },
  {
   "cell_type": "code",
   "execution_count": 4,
   "metadata": {},
   "outputs": [
    {
     "name": "stdout",
     "output_type": "stream",
     "text": [
      "LR准确率: 0.9533\n"
     ]
    }
   ],
   "source": [
    "\n",
    "# 创建LR分类器\n",
    "lr = LogisticRegression(solver='liblinear', multi_class='auto') #数据集比较小，使用liblinear，数据集大使用 sag或者saga\n",
    "lr.fit(train_x, train_y)\n",
    "predict_y=lr.predict(test_x)\n",
    "print('LR准确率: %0.4lf' % accuracy_score(predict_y, test_y))\n"
   ]
  },
  {
   "cell_type": "code",
   "execution_count": 5,
   "metadata": {},
   "outputs": [
    {
     "name": "stdout",
     "output_type": "stream",
     "text": [
      "CART决策树准确率: 0.8356\n"
     ]
    }
   ],
   "source": [
    "\n",
    "\n",
    "# 创建线性 CART决策树分类器\n",
    "model = DecisionTreeClassifier()\n",
    "model.fit(train_x,train_y)\n",
    "predict_y=model.predict(test_x)\n",
    "print('CART决策树准确率: %0.4lf' %accuracy_score(predict_y,test_y))\n"
   ]
  },
  {
   "cell_type": "code",
   "execution_count": 6,
   "metadata": {},
   "outputs": [
    {
     "name": "stdout",
     "output_type": "stream",
     "text": [
      "LR准确率: 0.9644\n"
     ]
    }
   ],
   "source": [
    "\n",
    "# 采用Z-Score规范化\n",
    "ss = preprocessing.StandardScaler()\n",
    "train_ss_x = ss.fit_transform(train_x)\n",
    "test_ss_x = ss.transform(test_x)\n",
    "\n",
    "# 创建LR分类器\n",
    "lr = LogisticRegression()\n",
    "lr.fit(train_ss_x, train_y)\n",
    "predict_s_y=lr.predict(test_ss_x)\n",
    "print('LR准确率: %0.4lf' % accuracy_score(predict_s_y, test_y))"
   ]
  },
  {
   "cell_type": "code",
   "execution_count": 7,
   "metadata": {},
   "outputs": [
    {
     "name": "stdout",
     "output_type": "stream",
     "text": [
      "LR准确率: 0.9644\n"
     ]
    }
   ],
   "source": [
    "\n",
    "# 采用MinMax规范化\n",
    "mm = preprocessing.minmax_scale(train_x)\n",
    "train_mm_x = ss.fit_transform(train_x)\n",
    "test_mm_x = ss.transform(test_x)\n",
    "\n",
    "# 创建LR分类器\n",
    "lr = LogisticRegression()\n",
    "lr.fit(train_mm_x, train_y)\n",
    "predict_m_y=lr.predict(test_mm_x)\n",
    "print('LR准确率: %0.4lf' % accuracy_score(predict_m_y, test_y))"
   ]
  },
  {
   "cell_type": "code",
   "execution_count": 8,
   "metadata": {},
   "outputs": [
    {
     "ename": "NameError",
     "evalue": "name 'tra' is not defined",
     "output_type": "error",
     "traceback": [
      "\u001b[1;31m---------------------------------------------------------------------------\u001b[0m",
      "\u001b[1;31mNameError\u001b[0m                                 Traceback (most recent call last)",
      "\u001b[1;32m<ipython-input-8-04e29b04385e>\u001b[0m in \u001b[0;36m<module>\u001b[1;34m\u001b[0m\n\u001b[0;32m      1\u001b[0m \u001b[1;32mimport\u001b[0m \u001b[0mstatsmodels\u001b[0m\u001b[1;33m.\u001b[0m\u001b[0mapi\u001b[0m \u001b[1;32mas\u001b[0m \u001b[0msm\u001b[0m\u001b[1;33m\u001b[0m\u001b[1;33m\u001b[0m\u001b[0m\n\u001b[1;32m----> 2\u001b[1;33m \u001b[0mX2\u001b[0m \u001b[1;33m=\u001b[0m \u001b[0msm\u001b[0m\u001b[1;33m.\u001b[0m\u001b[0madd_constant\u001b[0m\u001b[1;33m(\u001b[0m\u001b[0mtra\u001b[0m\u001b[1;33m)\u001b[0m\u001b[1;33m\u001b[0m\u001b[1;33m\u001b[0m\u001b[0m\n\u001b[0m",
      "\u001b[1;31mNameError\u001b[0m: name 'tra' is not defined"
     ]
    }
   ],
   "source": [
    "import statsmodels.api as sm"
   ]
  },
  {
   "cell_type": "code",
   "execution_count": 9,
   "metadata": {},
   "outputs": [],
   "source": [
    "\n",
    "X2 = sm.add_constant(train_x)\n",
    "est = sm.OLS(train_y, X2).fit()\n"
   ]
  },
  {
   "cell_type": "code",
   "execution_count": 10,
   "metadata": {},
   "outputs": [
    {
     "name": "stdout",
     "output_type": "stream",
     "text": [
      "                            OLS Regression Results                            \n",
      "==============================================================================\n",
      "Dep. Variable:                      y   R-squared:                       0.608\n",
      "Model:                            OLS   Adj. R-squared:                  0.590\n",
      "Method:                 Least Squares   F-statistic:                     32.73\n",
      "Date:                Sun, 23 Aug 2020   Prob (F-statistic):          3.01e-217\n",
      "Time:                        21:41:24   Log-Likelihood:                -2696.5\n",
      "No. Observations:                1347   AIC:                             5517.\n",
      "Df Residuals:                    1285   BIC:                             5840.\n",
      "Df Model:                          61                                         \n",
      "Covariance Type:            nonrobust                                         \n",
      "==============================================================================\n",
      "                 coef    std err          t      P>|t|      [0.025      0.975]\n",
      "------------------------------------------------------------------------------\n",
      "const          3.8280      0.508      7.537      0.000       2.832       4.824\n",
      "x1         -3.942e-14   1.66e-14     -2.380      0.017   -7.19e-14   -6.92e-15\n",
      "x2             0.2114      0.128      1.650      0.099      -0.040       0.463\n",
      "x3            -0.0326      0.035     -0.923      0.356      -0.102       0.037\n",
      "x4            -0.0286      0.025     -1.165      0.244      -0.077       0.020\n",
      "x5             0.0567      0.017      3.259      0.001       0.023       0.091\n",
      "x6             0.0002      0.019      0.010      0.992      -0.037       0.037\n",
      "x7            -0.0363      0.031     -1.190      0.234      -0.096       0.024\n",
      "x8             0.0422      0.092      0.461      0.645      -0.138       0.222\n",
      "x9             1.7537      0.608      2.886      0.004       0.561       2.946\n",
      "x10           -0.0211      0.032     -0.661      0.509      -0.084       0.042\n",
      "x11            0.0939      0.021      4.429      0.000       0.052       0.135\n",
      "x12            0.0276      0.020      1.357      0.175      -0.012       0.067\n",
      "x13           -0.0528      0.016     -3.306      0.001      -0.084      -0.021\n",
      "x14           -0.0898      0.018     -4.956      0.000      -0.125      -0.054\n",
      "x15            0.0732      0.030      2.464      0.014       0.015       0.132\n",
      "x16            0.2130      0.145      1.467      0.143      -0.072       0.498\n",
      "x17           -1.1820      0.904     -1.308      0.191      -2.955       0.591\n",
      "x18            0.0122      0.026      0.466      0.641      -0.039       0.063\n",
      "x19            0.0862      0.017      5.129      0.000       0.053       0.119\n",
      "x20           -0.0419      0.017     -2.524      0.012      -0.074      -0.009\n",
      "x21           -0.0795      0.016     -4.826      0.000      -0.112      -0.047\n",
      "x22            0.0413      0.018      2.272      0.023       0.006       0.077\n",
      "x23           -0.0481      0.028     -1.695      0.090      -0.104       0.008\n",
      "x24           -0.3782      0.233     -1.625      0.104      -0.835       0.078\n",
      "x25           -0.5086      1.615     -0.315      0.753      -3.676       2.659\n",
      "x26           -0.1544      0.029     -5.410      0.000      -0.210      -0.098\n",
      "x27            0.0325      0.018      1.851      0.064      -0.002       0.067\n",
      "x28            0.0859      0.016      5.238      0.000       0.054       0.118\n",
      "x29            0.0842      0.017      5.065      0.000       0.052       0.117\n",
      "x30            0.0966      0.018      5.347      0.000       0.061       0.132\n",
      "x31           -0.0160      0.023     -0.690      0.490      -0.062       0.030\n",
      "x32           -1.6308      1.689     -0.966      0.334      -4.944       1.682\n",
      "x33        -3.785e-15    2.5e-14     -0.152      0.879   -5.28e-14    4.52e-14\n",
      "x34           -0.1552      0.030     -5.171      0.000      -0.214      -0.096\n",
      "x35           -0.0257      0.019     -1.376      0.169      -0.062       0.011\n",
      "x36            0.1252      0.017      7.422      0.000       0.092       0.158\n",
      "x37           -0.0405      0.017     -2.391      0.017      -0.074      -0.007\n",
      "x38            0.0285      0.017      1.663      0.097      -0.005       0.062\n",
      "x39            0.0081      0.025      0.328      0.743      -0.041       0.057\n",
      "x40         3.061e-15    1.6e-14      0.191      0.849   -2.84e-14    3.45e-14\n",
      "x41            0.0850      0.349      0.244      0.808      -0.600       0.770\n",
      "x42            0.0824      0.031      2.632      0.009       0.021       0.144\n",
      "x43           -0.0238      0.018     -1.320      0.187      -0.059       0.012\n",
      "x44            0.0064      0.017      0.387      0.699      -0.026       0.039\n",
      "x45            0.1117      0.018      6.300      0.000       0.077       0.147\n",
      "x46            0.0616      0.017      3.707      0.000       0.029       0.094\n",
      "x47            0.0168      0.026      0.645      0.519      -0.034       0.068\n",
      "x48            0.1640      0.225      0.730      0.465      -0.276       0.604\n",
      "x49            0.4203      0.329      1.277      0.202      -0.225       1.066\n",
      "x50            0.0631      0.043      1.474      0.141      -0.021       0.147\n",
      "x51            0.0035      0.017      0.207      0.836      -0.030       0.037\n",
      "x52           -0.0771      0.017     -4.476      0.000      -0.111      -0.043\n",
      "x53           -0.1927      0.017    -11.545      0.000      -0.225      -0.160\n",
      "x54           -0.0457      0.018     -2.584      0.010      -0.080      -0.011\n",
      "x55            0.0930      0.025      3.691      0.000       0.044       0.142\n",
      "x56           -0.1484      0.082     -1.811      0.070      -0.309       0.012\n",
      "x57           -1.1590      2.163     -0.536      0.592      -5.402       3.084\n",
      "x58           -0.2225      0.116     -1.917      0.055      -0.450       0.005\n",
      "x59            0.0138      0.032      0.434      0.664      -0.048       0.076\n",
      "x60           -0.0594      0.023     -2.617      0.009      -0.104      -0.015\n",
      "x61           -0.0179      0.020     -0.880      0.379      -0.058       0.022\n",
      "x62           -0.0717      0.022     -3.282      0.001      -0.115      -0.029\n",
      "x63           -0.0005      0.028     -0.017      0.987      -0.055       0.054\n",
      "x64           -0.0635      0.044     -1.442      0.150      -0.150       0.023\n",
      "==============================================================================\n",
      "Omnibus:                       26.083   Durbin-Watson:                   1.922\n",
      "Prob(Omnibus):                  0.000   Jarque-Bera (JB):               29.216\n",
      "Skew:                           0.289   Prob(JB):                     4.53e-07\n",
      "Kurtosis:                       3.432   Cond. No.                     1.01e+16\n",
      "==============================================================================\n",
      "\n",
      "Warnings:\n",
      "[1] Standard Errors assume that the covariance matrix of the errors is correctly specified.\n",
      "[2] The smallest eigenvalue is 3.55e-26. This might indicate that there are\n",
      "strong multicollinearity problems or that the design matrix is singular.\n"
     ]
    }
   ],
   "source": [
    "print(est.summary())"
   ]
  },
  {
   "cell_type": "code",
   "execution_count": 11,
   "metadata": {},
   "outputs": [],
   "source": [
    "from sklearn.preprocessing import PolynomialFeatures\n",
    "poly_reg = PolynomialFeatures(degree=2)\n",
    "X_ = poly_reg.fit_transform(train_x)"
   ]
  },
  {
   "cell_type": "code",
   "execution_count": 12,
   "metadata": {},
   "outputs": [
    {
     "data": {
      "text/plain": [
       "LinearRegression()"
      ]
     },
     "execution_count": 12,
     "metadata": {},
     "output_type": "execute_result"
    }
   ],
   "source": [
    "from sklearn.linear_model import LinearRegression\n",
    "regr = LinearRegression()\n",
    "regr.fit(X_,train_y)"
   ]
  },
  {
   "cell_type": "code",
   "execution_count": 13,
   "metadata": {},
   "outputs": [
    {
     "name": "stdout",
     "output_type": "stream",
     "text": [
      "LR准确率: 0.7533\n"
     ]
    }
   ],
   "source": [
    "predict_ry=lr.predict(test_x)\n",
    "print('LR准确率: %0.4lf' % accuracy_score(predict_ry, test_y))\n"
   ]
  },
  {
   "cell_type": "code",
   "execution_count": 21,
   "metadata": {},
   "outputs": [],
   "source": [
    "import pandas as pd\n",
    "df = pd.DataFrame(train_x)\n"
   ]
  },
  {
   "cell_type": "code",
   "execution_count": 22,
   "metadata": {},
   "outputs": [
    {
     "data": {
      "text/html": [
       "<div>\n",
       "<style scoped>\n",
       "    .dataframe tbody tr th:only-of-type {\n",
       "        vertical-align: middle;\n",
       "    }\n",
       "\n",
       "    .dataframe tbody tr th {\n",
       "        vertical-align: top;\n",
       "    }\n",
       "\n",
       "    .dataframe thead th {\n",
       "        text-align: right;\n",
       "    }\n",
       "</style>\n",
       "<table border=\"1\" class=\"dataframe\">\n",
       "  <thead>\n",
       "    <tr style=\"text-align: right;\">\n",
       "      <th></th>\n",
       "      <th>0</th>\n",
       "      <th>1</th>\n",
       "      <th>2</th>\n",
       "      <th>3</th>\n",
       "      <th>4</th>\n",
       "      <th>5</th>\n",
       "      <th>6</th>\n",
       "      <th>7</th>\n",
       "      <th>8</th>\n",
       "      <th>9</th>\n",
       "      <th>...</th>\n",
       "      <th>54</th>\n",
       "      <th>55</th>\n",
       "      <th>56</th>\n",
       "      <th>57</th>\n",
       "      <th>58</th>\n",
       "      <th>59</th>\n",
       "      <th>60</th>\n",
       "      <th>61</th>\n",
       "      <th>62</th>\n",
       "      <th>63</th>\n",
       "    </tr>\n",
       "  </thead>\n",
       "  <tbody>\n",
       "    <tr>\n",
       "      <th>count</th>\n",
       "      <td>1347.0</td>\n",
       "      <td>1347.000000</td>\n",
       "      <td>1347.000000</td>\n",
       "      <td>1347.000000</td>\n",
       "      <td>1347.000000</td>\n",
       "      <td>1347.000000</td>\n",
       "      <td>1347.000000</td>\n",
       "      <td>1347.000000</td>\n",
       "      <td>1347.000000</td>\n",
       "      <td>1347.000000</td>\n",
       "      <td>...</td>\n",
       "      <td>1347.000000</td>\n",
       "      <td>1347.000000</td>\n",
       "      <td>1347.000000</td>\n",
       "      <td>1347.000000</td>\n",
       "      <td>1347.000000</td>\n",
       "      <td>1347.000000</td>\n",
       "      <td>1347.000000</td>\n",
       "      <td>1347.000000</td>\n",
       "      <td>1347.000000</td>\n",
       "      <td>1347.000000</td>\n",
       "    </tr>\n",
       "    <tr>\n",
       "      <th>mean</th>\n",
       "      <td>0.0</td>\n",
       "      <td>0.302153</td>\n",
       "      <td>5.148478</td>\n",
       "      <td>11.813660</td>\n",
       "      <td>11.867112</td>\n",
       "      <td>5.791388</td>\n",
       "      <td>1.401633</td>\n",
       "      <td>0.133630</td>\n",
       "      <td>0.005939</td>\n",
       "      <td>1.974016</td>\n",
       "      <td>...</td>\n",
       "      <td>3.665924</td>\n",
       "      <td>0.190794</td>\n",
       "      <td>0.000742</td>\n",
       "      <td>0.282851</td>\n",
       "      <td>5.495174</td>\n",
       "      <td>12.058649</td>\n",
       "      <td>11.743133</td>\n",
       "      <td>6.615442</td>\n",
       "      <td>2.010393</td>\n",
       "      <td>0.356347</td>\n",
       "    </tr>\n",
       "    <tr>\n",
       "      <th>std</th>\n",
       "      <td>0.0</td>\n",
       "      <td>0.925142</td>\n",
       "      <td>4.739915</td>\n",
       "      <td>4.243361</td>\n",
       "      <td>4.277973</td>\n",
       "      <td>5.688051</td>\n",
       "      <td>3.363527</td>\n",
       "      <td>1.040754</td>\n",
       "      <td>0.094234</td>\n",
       "      <td>3.184996</td>\n",
       "      <td>...</td>\n",
       "      <td>4.911979</td>\n",
       "      <td>0.926723</td>\n",
       "      <td>0.027247</td>\n",
       "      <td>0.971065</td>\n",
       "      <td>5.086964</td>\n",
       "      <td>4.365232</td>\n",
       "      <td>5.003648</td>\n",
       "      <td>5.933184</td>\n",
       "      <td>4.045787</td>\n",
       "      <td>1.870819</td>\n",
       "    </tr>\n",
       "    <tr>\n",
       "      <th>min</th>\n",
       "      <td>0.0</td>\n",
       "      <td>0.000000</td>\n",
       "      <td>0.000000</td>\n",
       "      <td>0.000000</td>\n",
       "      <td>0.000000</td>\n",
       "      <td>0.000000</td>\n",
       "      <td>0.000000</td>\n",
       "      <td>0.000000</td>\n",
       "      <td>0.000000</td>\n",
       "      <td>0.000000</td>\n",
       "      <td>...</td>\n",
       "      <td>0.000000</td>\n",
       "      <td>0.000000</td>\n",
       "      <td>0.000000</td>\n",
       "      <td>0.000000</td>\n",
       "      <td>0.000000</td>\n",
       "      <td>0.000000</td>\n",
       "      <td>0.000000</td>\n",
       "      <td>0.000000</td>\n",
       "      <td>0.000000</td>\n",
       "      <td>0.000000</td>\n",
       "    </tr>\n",
       "    <tr>\n",
       "      <th>25%</th>\n",
       "      <td>0.0</td>\n",
       "      <td>0.000000</td>\n",
       "      <td>1.000000</td>\n",
       "      <td>10.000000</td>\n",
       "      <td>10.000000</td>\n",
       "      <td>0.000000</td>\n",
       "      <td>0.000000</td>\n",
       "      <td>0.000000</td>\n",
       "      <td>0.000000</td>\n",
       "      <td>0.000000</td>\n",
       "      <td>...</td>\n",
       "      <td>0.000000</td>\n",
       "      <td>0.000000</td>\n",
       "      <td>0.000000</td>\n",
       "      <td>0.000000</td>\n",
       "      <td>1.000000</td>\n",
       "      <td>11.000000</td>\n",
       "      <td>10.000000</td>\n",
       "      <td>0.000000</td>\n",
       "      <td>0.000000</td>\n",
       "      <td>0.000000</td>\n",
       "    </tr>\n",
       "    <tr>\n",
       "      <th>50%</th>\n",
       "      <td>0.0</td>\n",
       "      <td>0.000000</td>\n",
       "      <td>4.000000</td>\n",
       "      <td>13.000000</td>\n",
       "      <td>13.000000</td>\n",
       "      <td>4.000000</td>\n",
       "      <td>0.000000</td>\n",
       "      <td>0.000000</td>\n",
       "      <td>0.000000</td>\n",
       "      <td>0.000000</td>\n",
       "      <td>...</td>\n",
       "      <td>0.000000</td>\n",
       "      <td>0.000000</td>\n",
       "      <td>0.000000</td>\n",
       "      <td>0.000000</td>\n",
       "      <td>4.000000</td>\n",
       "      <td>13.000000</td>\n",
       "      <td>14.000000</td>\n",
       "      <td>6.000000</td>\n",
       "      <td>0.000000</td>\n",
       "      <td>0.000000</td>\n",
       "    </tr>\n",
       "    <tr>\n",
       "      <th>75%</th>\n",
       "      <td>0.0</td>\n",
       "      <td>0.000000</td>\n",
       "      <td>9.000000</td>\n",
       "      <td>15.000000</td>\n",
       "      <td>15.000000</td>\n",
       "      <td>11.000000</td>\n",
       "      <td>0.000000</td>\n",
       "      <td>0.000000</td>\n",
       "      <td>0.000000</td>\n",
       "      <td>3.000000</td>\n",
       "      <td>...</td>\n",
       "      <td>7.000000</td>\n",
       "      <td>0.000000</td>\n",
       "      <td>0.000000</td>\n",
       "      <td>0.000000</td>\n",
       "      <td>9.000000</td>\n",
       "      <td>16.000000</td>\n",
       "      <td>16.000000</td>\n",
       "      <td>12.000000</td>\n",
       "      <td>2.000000</td>\n",
       "      <td>0.000000</td>\n",
       "    </tr>\n",
       "    <tr>\n",
       "      <th>max</th>\n",
       "      <td>0.0</td>\n",
       "      <td>8.000000</td>\n",
       "      <td>16.000000</td>\n",
       "      <td>16.000000</td>\n",
       "      <td>16.000000</td>\n",
       "      <td>16.000000</td>\n",
       "      <td>16.000000</td>\n",
       "      <td>15.000000</td>\n",
       "      <td>2.000000</td>\n",
       "      <td>16.000000</td>\n",
       "      <td>...</td>\n",
       "      <td>16.000000</td>\n",
       "      <td>10.000000</td>\n",
       "      <td>1.000000</td>\n",
       "      <td>9.000000</td>\n",
       "      <td>16.000000</td>\n",
       "      <td>16.000000</td>\n",
       "      <td>16.000000</td>\n",
       "      <td>16.000000</td>\n",
       "      <td>16.000000</td>\n",
       "      <td>16.000000</td>\n",
       "    </tr>\n",
       "  </tbody>\n",
       "</table>\n",
       "<p>8 rows × 64 columns</p>\n",
       "</div>"
      ],
      "text/plain": [
       "           0            1            2            3            4   \\\n",
       "count  1347.0  1347.000000  1347.000000  1347.000000  1347.000000   \n",
       "mean      0.0     0.302153     5.148478    11.813660    11.867112   \n",
       "std       0.0     0.925142     4.739915     4.243361     4.277973   \n",
       "min       0.0     0.000000     0.000000     0.000000     0.000000   \n",
       "25%       0.0     0.000000     1.000000    10.000000    10.000000   \n",
       "50%       0.0     0.000000     4.000000    13.000000    13.000000   \n",
       "75%       0.0     0.000000     9.000000    15.000000    15.000000   \n",
       "max       0.0     8.000000    16.000000    16.000000    16.000000   \n",
       "\n",
       "                5            6            7            8            9   ...  \\\n",
       "count  1347.000000  1347.000000  1347.000000  1347.000000  1347.000000  ...   \n",
       "mean      5.791388     1.401633     0.133630     0.005939     1.974016  ...   \n",
       "std       5.688051     3.363527     1.040754     0.094234     3.184996  ...   \n",
       "min       0.000000     0.000000     0.000000     0.000000     0.000000  ...   \n",
       "25%       0.000000     0.000000     0.000000     0.000000     0.000000  ...   \n",
       "50%       4.000000     0.000000     0.000000     0.000000     0.000000  ...   \n",
       "75%      11.000000     0.000000     0.000000     0.000000     3.000000  ...   \n",
       "max      16.000000    16.000000    15.000000     2.000000    16.000000  ...   \n",
       "\n",
       "                54           55           56           57           58  \\\n",
       "count  1347.000000  1347.000000  1347.000000  1347.000000  1347.000000   \n",
       "mean      3.665924     0.190794     0.000742     0.282851     5.495174   \n",
       "std       4.911979     0.926723     0.027247     0.971065     5.086964   \n",
       "min       0.000000     0.000000     0.000000     0.000000     0.000000   \n",
       "25%       0.000000     0.000000     0.000000     0.000000     1.000000   \n",
       "50%       0.000000     0.000000     0.000000     0.000000     4.000000   \n",
       "75%       7.000000     0.000000     0.000000     0.000000     9.000000   \n",
       "max      16.000000    10.000000     1.000000     9.000000    16.000000   \n",
       "\n",
       "                59           60           61           62           63  \n",
       "count  1347.000000  1347.000000  1347.000000  1347.000000  1347.000000  \n",
       "mean     12.058649    11.743133     6.615442     2.010393     0.356347  \n",
       "std       4.365232     5.003648     5.933184     4.045787     1.870819  \n",
       "min       0.000000     0.000000     0.000000     0.000000     0.000000  \n",
       "25%      11.000000    10.000000     0.000000     0.000000     0.000000  \n",
       "50%      13.000000    14.000000     6.000000     0.000000     0.000000  \n",
       "75%      16.000000    16.000000    12.000000     2.000000     0.000000  \n",
       "max      16.000000    16.000000    16.000000    16.000000    16.000000  \n",
       "\n",
       "[8 rows x 64 columns]"
      ]
     },
     "execution_count": 22,
     "metadata": {},
     "output_type": "execute_result"
    }
   ],
   "source": [
    "df.describe()"
   ]
  },
  {
   "cell_type": "code",
   "execution_count": 25,
   "metadata": {},
   "outputs": [],
   "source": [
    "pd_y= pd.DataFrame(train_y)"
   ]
  },
  {
   "cell_type": "code",
   "execution_count": 30,
   "metadata": {},
   "outputs": [
    {
     "data": {
      "text/html": [
       "<div>\n",
       "<style scoped>\n",
       "    .dataframe tbody tr th:only-of-type {\n",
       "        vertical-align: middle;\n",
       "    }\n",
       "\n",
       "    .dataframe tbody tr th {\n",
       "        vertical-align: top;\n",
       "    }\n",
       "\n",
       "    .dataframe thead th {\n",
       "        text-align: right;\n",
       "    }\n",
       "</style>\n",
       "<table border=\"1\" class=\"dataframe\">\n",
       "  <thead>\n",
       "    <tr style=\"text-align: right;\">\n",
       "      <th></th>\n",
       "      <th>0</th>\n",
       "    </tr>\n",
       "  </thead>\n",
       "  <tbody>\n",
       "    <tr>\n",
       "      <th>0</th>\n",
       "      <td>4</td>\n",
       "    </tr>\n",
       "    <tr>\n",
       "      <th>1</th>\n",
       "      <td>7</td>\n",
       "    </tr>\n",
       "    <tr>\n",
       "      <th>2</th>\n",
       "      <td>4</td>\n",
       "    </tr>\n",
       "    <tr>\n",
       "      <th>3</th>\n",
       "      <td>7</td>\n",
       "    </tr>\n",
       "    <tr>\n",
       "      <th>4</th>\n",
       "      <td>4</td>\n",
       "    </tr>\n",
       "    <tr>\n",
       "      <th>...</th>\n",
       "      <td>...</td>\n",
       "    </tr>\n",
       "    <tr>\n",
       "      <th>1342</th>\n",
       "      <td>2</td>\n",
       "    </tr>\n",
       "    <tr>\n",
       "      <th>1343</th>\n",
       "      <td>3</td>\n",
       "    </tr>\n",
       "    <tr>\n",
       "      <th>1344</th>\n",
       "      <td>1</td>\n",
       "    </tr>\n",
       "    <tr>\n",
       "      <th>1345</th>\n",
       "      <td>5</td>\n",
       "    </tr>\n",
       "    <tr>\n",
       "      <th>1346</th>\n",
       "      <td>5</td>\n",
       "    </tr>\n",
       "  </tbody>\n",
       "</table>\n",
       "<p>1347 rows × 1 columns</p>\n",
       "</div>"
      ],
      "text/plain": [
       "      0\n",
       "0     4\n",
       "1     7\n",
       "2     4\n",
       "3     7\n",
       "4     4\n",
       "...  ..\n",
       "1342  2\n",
       "1343  3\n",
       "1344  1\n",
       "1345  5\n",
       "1346  5\n",
       "\n",
       "[1347 rows x 1 columns]"
      ]
     },
     "execution_count": 30,
     "metadata": {},
     "output_type": "execute_result"
    }
   ],
   "source": [
    "pd_y"
   ]
  },
  {
   "cell_type": "code",
   "execution_count": 31,
   "metadata": {},
   "outputs": [
    {
     "data": {
      "text/plain": [
       "4    146\n",
       "7    144\n",
       "0    143\n",
       "3    137\n",
       "9    136\n",
       "5    134\n",
       "2    133\n",
       "6    130\n",
       "1    128\n",
       "8    116\n",
       "Name: 0, dtype: int64"
      ]
     },
     "execution_count": 31,
     "metadata": {},
     "output_type": "execute_result"
    }
   ],
   "source": [
    "pd_y[0].value_counts()"
   ]
  }
 ],
 "metadata": {
  "kernelspec": {
   "display_name": "Python 3",
   "language": "python",
   "name": "python3"
  },
  "language_info": {
   "codemirror_mode": {
    "name": "ipython",
    "version": 3
   },
   "file_extension": ".py",
   "mimetype": "text/x-python",
   "name": "python",
   "nbconvert_exporter": "python",
   "pygments_lexer": "ipython3",
   "version": "3.8.3"
  }
 },
 "nbformat": 4,
 "nbformat_minor": 4
}
